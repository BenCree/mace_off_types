{
 "cells": [
  {
   "cell_type": "code",
   "execution_count": 1,
   "id": "99099018-2194-4c47-97ed-50d299b733f5",
   "metadata": {},
   "outputs": [],
   "source": [
    "from openff.toolkit import ForceField, Molecule, Topology"
   ]
  },
  {
   "cell_type": "code",
   "execution_count": 2,
   "id": "d46b786d-3633-488b-bf17-f3085bf05647",
   "metadata": {},
   "outputs": [],
   "source": [
    "molecule = Molecule.from_smiles(\"CCCCO\")\n",
    "topology = Topology.from_molecules([molecule])"
   ]
  },
  {
   "cell_type": "code",
   "execution_count": 3,
   "id": "4c17f4f9-8755-45be-9eed-55812daf34fa",
   "metadata": {},
   "outputs": [],
   "source": [
    "forcefield = ForceField(\"openff-2.2.0.offxml\")"
   ]
  },
  {
   "cell_type": "code",
   "execution_count": 4,
   "id": "58956d34-2c57-4ef3-ae34-dbd48f7fdf7e",
   "metadata": {},
   "outputs": [],
   "source": [
    "molecule_force_list = forcefield.label_molecules(topology)"
   ]
  },
  {
   "cell_type": "code",
   "execution_count": 5,
   "id": "eff44912-4188-49ab-8393-110d3dcc9461",
   "metadata": {},
   "outputs": [
    {
     "name": "stdout",
     "output_type": "stream",
     "text": [
      "(0,) n16 [#6X4:1]\n",
      "(1,) n16 [#6X4:1]\n",
      "(2,) n16 [#6X4:1]\n",
      "(3,) n16 [#6X4:1]\n",
      "(4,) n19 [#8X2H1+0:1]\n",
      "(5,) n2 [#1:1]-[#6X4]\n",
      "(6,) n2 [#1:1]-[#6X4]\n",
      "(7,) n2 [#1:1]-[#6X4]\n",
      "(8,) n2 [#1:1]-[#6X4]\n",
      "(9,) n2 [#1:1]-[#6X4]\n",
      "(10,) n2 [#1:1]-[#6X4]\n",
      "(11,) n2 [#1:1]-[#6X4]\n",
      "(12,) n3 [#1:1]-[#6X4]-[#7,#8,#9,#16,#17,#35]\n",
      "(13,) n3 [#1:1]-[#6X4]-[#7,#8,#9,#16,#17,#35]\n",
      "(14,) n12 [#1:1]-[#8]\n"
     ]
    }
   ],
   "source": [
    "for mol_idx, mol_forces in enumerate(molecule_force_list):\n",
    "    for force_tag, force_dict in mol_forces.items():\n",
    "        if force_tag == 'vdW':\n",
    "            for atom_indices, parameter in force_dict.items():\n",
    "                print(atom_indices, parameter.id, parameter.smirks)"
   ]
  },
  {
   "cell_type": "code",
   "execution_count": 6,
   "id": "7828cad8-4001-4a4a-85ed-b4516fdb06f6",
   "metadata": {},
   "outputs": [
    {
     "data": {
      "image/svg+xml": [
       "<svg xmlns=\"http://www.w3.org/2000/svg\" xmlns:rdkit=\"http://www.rdkit.org/xml\" xmlns:xlink=\"http://www.w3.org/1999/xlink\" version=\"1.1\" baseProfile=\"full\" xml:space=\"preserve\" width=\"500px\" height=\"300px\" viewBox=\"0 0 500 300\">\n",
       "<!-- END OF HEADER -->\n",
       "<rect style=\"opacity:1.0;fill:#FFFFFF;stroke:none\" width=\"500.0\" height=\"300.0\" x=\"0.0\" y=\"0.0\"> </rect>\n",
       "<path class=\"bond-0 atom-0 atom-1\" d=\"M 334.5,85.1 L 278.2,117.5\" style=\"fill:none;fill-rule:evenodd;stroke:#000000;stroke-width:2.0px;stroke-linecap:butt;stroke-linejoin:miter;stroke-opacity:1\"/>\n",
       "<path class=\"bond-1 atom-1 atom-2\" d=\"M 278.2,117.5 L 278.1,182.5\" style=\"fill:none;fill-rule:evenodd;stroke:#000000;stroke-width:2.0px;stroke-linecap:butt;stroke-linejoin:miter;stroke-opacity:1\"/>\n",
       "<path class=\"bond-2 atom-2 atom-3\" d=\"M 278.1,182.5 L 221.8,214.9\" style=\"fill:none;fill-rule:evenodd;stroke:#000000;stroke-width:2.0px;stroke-linecap:butt;stroke-linejoin:miter;stroke-opacity:1\"/>\n",
       "<path class=\"bond-3 atom-3 atom-4\" d=\"M 221.8,214.9 L 201.1,202.9\" style=\"fill:none;fill-rule:evenodd;stroke:#000000;stroke-width:2.0px;stroke-linecap:butt;stroke-linejoin:miter;stroke-opacity:1\"/>\n",
       "<path class=\"bond-3 atom-3 atom-4\" d=\"M 201.1,202.9 L 180.4,191.0\" style=\"fill:none;fill-rule:evenodd;stroke:#FF0000;stroke-width:2.0px;stroke-linecap:butt;stroke-linejoin:miter;stroke-opacity:1\"/>\n",
       "<path class=\"bond-4 atom-0 atom-5\" d=\"M 334.5,85.1 L 311.2,44.7\" style=\"fill:none;fill-rule:evenodd;stroke:#000000;stroke-width:2.0px;stroke-linecap:butt;stroke-linejoin:miter;stroke-opacity:1\"/>\n",
       "<path class=\"bond-5 atom-0 atom-6\" d=\"M 334.5,85.1 L 357.8,44.8\" style=\"fill:none;fill-rule:evenodd;stroke:#000000;stroke-width:2.0px;stroke-linecap:butt;stroke-linejoin:miter;stroke-opacity:1\"/>\n",
       "<path class=\"bond-6 atom-0 atom-7\" d=\"M 334.5,85.1 L 377.7,110.1\" style=\"fill:none;fill-rule:evenodd;stroke:#000000;stroke-width:2.0px;stroke-linecap:butt;stroke-linejoin:miter;stroke-opacity:1\"/>\n",
       "<path class=\"bond-7 atom-1 atom-8\" d=\"M 278.2,117.5 L 226.1,117.5\" style=\"fill:none;fill-rule:evenodd;stroke:#000000;stroke-width:2.0px;stroke-linecap:butt;stroke-linejoin:miter;stroke-opacity:1\"/>\n",
       "<path class=\"bond-8 atom-1 atom-9\" d=\"M 278.2,117.5 L 254.9,77.2\" style=\"fill:none;fill-rule:evenodd;stroke:#000000;stroke-width:2.0px;stroke-linecap:butt;stroke-linejoin:miter;stroke-opacity:1\"/>\n",
       "<path class=\"bond-9 atom-2 atom-10\" d=\"M 278.1,182.5 L 330.1,182.5\" style=\"fill:none;fill-rule:evenodd;stroke:#000000;stroke-width:2.0px;stroke-linecap:butt;stroke-linejoin:miter;stroke-opacity:1\"/>\n",
       "<path class=\"bond-10 atom-2 atom-11\" d=\"M 278.1,182.5 L 301.4,222.8\" style=\"fill:none;fill-rule:evenodd;stroke:#000000;stroke-width:2.0px;stroke-linecap:butt;stroke-linejoin:miter;stroke-opacity:1\"/>\n",
       "<path class=\"bond-11 atom-3 atom-12\" d=\"M 221.8,214.9 L 245.1,255.3\" style=\"fill:none;fill-rule:evenodd;stroke:#000000;stroke-width:2.0px;stroke-linecap:butt;stroke-linejoin:miter;stroke-opacity:1\"/>\n",
       "<path class=\"bond-12 atom-3 atom-13\" d=\"M 221.8,214.9 L 198.5,255.2\" style=\"fill:none;fill-rule:evenodd;stroke:#000000;stroke-width:2.0px;stroke-linecap:butt;stroke-linejoin:miter;stroke-opacity:1\"/>\n",
       "<path class=\"bond-13 atom-4 atom-14\" d=\"M 150.8,190.9 L 136.5,199.1\" style=\"fill:none;fill-rule:evenodd;stroke:#FF0000;stroke-width:2.0px;stroke-linecap:butt;stroke-linejoin:miter;stroke-opacity:1\"/>\n",
       "<path class=\"bond-13 atom-4 atom-14\" d=\"M 136.5,199.1 L 122.3,207.4\" style=\"fill:none;fill-rule:evenodd;stroke:#000000;stroke-width:2.0px;stroke-linecap:butt;stroke-linejoin:miter;stroke-opacity:1\"/>\n",
       "<path class=\"atom-4\" d=\"M 152.9 182.5 Q 152.9 175.8, 156.2 172.1 Q 159.5 168.4, 165.6 168.4 Q 171.7 168.4, 175.0 172.1 Q 178.3 175.8, 178.3 182.5 Q 178.3 189.2, 175.0 193.0 Q 171.6 196.8, 165.6 196.8 Q 159.5 196.8, 156.2 193.0 Q 152.9 189.2, 152.9 182.5 M 165.6 193.6 Q 169.8 193.6, 172.1 190.8 Q 174.4 188.0, 174.4 182.5 Q 174.4 177.0, 172.1 174.3 Q 169.8 171.5, 165.6 171.5 Q 161.4 171.5, 159.1 174.3 Q 156.8 177.0, 156.8 182.5 Q 156.8 188.0, 159.1 190.8 Q 161.4 193.6, 165.6 193.6 \" fill=\"#FF0000\"/>\n",
       "<path class=\"atom-5\" d=\"M 291.2 15.0 L 295.0 15.0 L 295.0 26.7 L 309.1 26.7 L 309.1 15.0 L 312.8 15.0 L 312.8 42.6 L 309.1 42.6 L 309.1 29.9 L 295.0 29.9 L 295.0 42.6 L 291.2 42.6 L 291.2 15.0 \" fill=\"#000000\"/>\n",
       "<path class=\"atom-6\" d=\"M 356.2 15.1 L 359.9 15.1 L 359.9 26.8 L 374.0 26.8 L 374.0 15.1 L 377.8 15.1 L 377.8 42.6 L 374.0 42.6 L 374.0 29.9 L 359.9 29.9 L 359.9 42.6 L 356.2 42.6 L 356.2 15.1 \" fill=\"#000000\"/>\n",
       "<path class=\"atom-7\" d=\"M 379.9 103.8 L 383.6 103.8 L 383.6 115.5 L 397.7 115.5 L 397.7 103.8 L 401.5 103.8 L 401.5 131.4 L 397.7 131.4 L 397.7 118.7 L 383.6 118.7 L 383.6 131.4 L 379.9 131.4 L 379.9 103.8 \" fill=\"#000000\"/>\n",
       "<path class=\"atom-8\" d=\"M 202.4 103.7 L 206.1 103.7 L 206.1 115.4 L 220.3 115.4 L 220.3 103.7 L 224.0 103.7 L 224.0 131.3 L 220.3 131.3 L 220.3 118.5 L 206.1 118.5 L 206.1 131.3 L 202.4 131.3 L 202.4 103.7 \" fill=\"#000000\"/>\n",
       "<path class=\"atom-9\" d=\"M 234.9 47.4 L 238.7 47.4 L 238.7 59.2 L 252.8 59.2 L 252.8 47.4 L 256.5 47.4 L 256.5 75.0 L 252.8 75.0 L 252.8 62.3 L 238.7 62.3 L 238.7 75.0 L 234.9 75.0 L 234.9 47.4 \" fill=\"#000000\"/>\n",
       "<path class=\"atom-10\" d=\"M 332.3 168.7 L 336.0 168.7 L 336.0 180.5 L 350.1 180.5 L 350.1 168.7 L 353.9 168.7 L 353.9 196.3 L 350.1 196.3 L 350.1 183.6 L 336.0 183.6 L 336.0 196.3 L 332.3 196.3 L 332.3 168.7 \" fill=\"#000000\"/>\n",
       "<path class=\"atom-11\" d=\"M 299.7 225.0 L 303.5 225.0 L 303.5 236.7 L 317.6 236.7 L 317.6 225.0 L 321.3 225.0 L 321.3 252.6 L 317.6 252.6 L 317.6 239.8 L 303.5 239.8 L 303.5 252.6 L 299.7 252.6 L 299.7 225.0 \" fill=\"#000000\"/>\n",
       "<path class=\"atom-12\" d=\"M 243.5 257.4 L 247.2 257.4 L 247.2 269.1 L 261.3 269.1 L 261.3 257.4 L 265.1 257.4 L 265.1 285.0 L 261.3 285.0 L 261.3 272.3 L 247.2 272.3 L 247.2 285.0 L 243.5 285.0 L 243.5 257.4 \" fill=\"#000000\"/>\n",
       "<path class=\"atom-13\" d=\"M 178.5 257.4 L 182.3 257.4 L 182.3 269.1 L 196.4 269.1 L 196.4 257.4 L 200.1 257.4 L 200.1 284.9 L 196.4 284.9 L 196.4 272.2 L 182.3 272.2 L 182.3 284.9 L 178.5 284.9 L 178.5 257.4 \" fill=\"#000000\"/>\n",
       "<path class=\"atom-14\" d=\"M 98.5 201.0 L 102.3 201.0 L 102.3 212.8 L 116.4 212.8 L 116.4 201.0 L 120.1 201.0 L 120.1 228.6 L 116.4 228.6 L 116.4 215.9 L 102.3 215.9 L 102.3 228.6 L 98.5 228.6 L 98.5 201.0 \" fill=\"#000000\"/>\n",
       "</svg>"
      ],
      "text/plain": [
       "<IPython.core.display.SVG object>"
      ]
     },
     "execution_count": 6,
     "metadata": {},
     "output_type": "execute_result"
    }
   ],
   "source": [
    "molecule.visualize()"
   ]
  },
  {
   "cell_type": "code",
   "execution_count": null,
   "id": "19cadad8-0bc4-411d-9c0b-d7e08e85696e",
   "metadata": {},
   "outputs": [],
   "source": []
  }
 ],
 "metadata": {
  "kernelspec": {
   "display_name": "nagl",
   "language": "python",
   "name": "nagl"
  },
  "language_info": {
   "codemirror_mode": {
    "name": "ipython",
    "version": 3
   },
   "file_extension": ".py",
   "mimetype": "text/x-python",
   "name": "python",
   "nbconvert_exporter": "python",
   "pygments_lexer": "ipython3",
   "version": "3.12.7"
  }
 },
 "nbformat": 4,
 "nbformat_minor": 5
}
