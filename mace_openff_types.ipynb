{
 "cells": [
  {
   "cell_type": "markdown",
   "metadata": {},
   "source": [
    "# Investigation of OpenFF types using MACE\n",
    "\n",
    "MACE can classify atomic environments using 3D information. The goal is to establish if it is possible to expand on existing (human curated) OpenFF types in a useful way?\n",
    "\n",
    "This notebook first processes a small dataset and assigns OpenFF types, then embeds the same dataset using mace MACE. UMAP is then applied to these embeddings to create a 2D similarity plot, which is then clustered using HDBscan.\n",
    "\n",
    "### Questions\n",
    "\n",
    "- Does MACE find new types? i.e. Are there seperate UMAP clusters for the same OpenFF type (colour)?\n",
    "- Are these types conformer independent? i.e. Are any atoms present in more than one UMAP cluster?"
   ]
  },
  {
   "cell_type": "code",
   "execution_count": 32,
   "metadata": {},
   "outputs": [],
   "source": [
    "from openff.toolkit import ForceField, Molecule, Topology\n",
    "from ase import Atoms\n",
    "from ase.io import write\n",
    "import numpy as np\n",
    "from tqdm import tqdm\n",
    "\n",
    "from umap import UMAP\n",
    "\n",
    "from matplotlib import pyplot as plt\n",
    "from matplotlib import cm\n",
    "from matplotlib.colors import ListedColormap\n",
    "\n",
    "import rdkit\n",
    "from rdkit.Chem import Draw\n",
    "from rdkit import Chem\n",
    "from rdkit.Chem import AllChem\n",
    "import pandas as pd\n",
    "import hdbscan\n",
    "\n",
    "\n",
    "# np.set_printoptions(threshold=np.inf, linewidth=10000)"
   ]
  },
  {
   "cell_type": "markdown",
   "metadata": {},
   "source": [
    "### Assigning OpenFF types"
   ]
  },
  {
   "cell_type": "code",
   "execution_count": 33,
   "metadata": {},
   "outputs": [],
   "source": [
    "# originally wiht openff 2.0.0\n",
    "forcefield = ForceField(\"openff-2.0.0.offxml\")\n",
    "with open('smiles-train-filtered.txt', 'r') as file:\n",
    "    lines = file.readlines()\n",
    "smiles_list = np.array([line.strip() for line in lines])"
   ]
  },
  {
   "cell_type": "code",
   "execution_count": 34,
   "metadata": {},
   "outputs": [],
   "source": [
    "# writes out each conformer with 3D coords and assigned atom types\n",
    "\n",
    "# db = []\n",
    "# for smile in tqdm(smiles_list):\n",
    "#     print(smile)\n",
    "#     molecule = Molecule.from_smiles(smile, allow_undefined_stereo=True)\n",
    "#     molecule.generate_conformers()\n",
    "#     atom_indices = [i for i in range(len(molecule._atoms))]\n",
    "    \n",
    "#     numbers = [at._atomic_number for at in molecule._atoms]\n",
    "#     positions = molecule.conformers[0]\n",
    "#     atom = Atoms(numbers=numbers, positions=positions)\n",
    " \n",
    "#     topology = Topology.from_molecules([molecule])\n",
    "#     force_list = forcefield.label_molecules(topology)\n",
    "#     atom.arrays['atom_types'] = np.array([param.id for idx, param in force_list[0]['vdW'].items()])\n",
    "#     atom.arrays['atom_indices'] = np.array(atom_indices)\n",
    "#     db += [atom]\n",
    "    \n",
    "# write('test.xyz', db)"
   ]
  },
  {
   "cell_type": "code",
   "execution_count": 35,
   "metadata": {},
   "outputs": [],
   "source": [
    "from rdkit import Chem\n",
    "from rdkit.Chem import rdDistGeom\n",
    "\n",
    "from tqdm import tqdm\n",
    "from openff.units import unit\n",
    "\n",
    "#multiple embeddings for a single mol\n",
    "db = []\n",
    "forcefield = ForceField(\"openff-2.0.0.offxml\")\n",
    "#smiles_list = ['ClCCCCCO', 'BrCCCC=O', 'IC#CCO', 'CC(O)CN']\n",
    "\n",
    "#read in dataset.smi and read each line and add to smiles_list\n",
    "with open('dataset.smi', 'r') as file:\n",
    "    smiles_list = [line.strip() for line in file.readlines()]\n",
    "\n",
    "\n",
    "smiles_list = smiles_list[:50]\n",
    "\n",
    "def label_conformers(smiles, n_conformers=100, rms_cutoff=0.05):\n",
    "    \"\"\"\n",
    "    Generate and label conformers for a given SMILES string.\n",
    "    \n",
    "    Parameters:\n",
    "    -----------\n",
    "    smiles : str\n",
    "        SMILES string of the molecule\n",
    "    n_conformers : int\n",
    "        Number of conformers to generate\n",
    "    rms_cutoff : float\n",
    "        RMS cutoff for conformer pruning in Angstroms\n",
    "    \n",
    "    Returns:\n",
    "    --------\n",
    "    list\n",
    "        List of ASE Atoms objects, each containing a conformer with labels\n",
    "    \"\"\"\n",
    "    from openff.toolkit import ForceField, Molecule, Topology\n",
    "    from openff.units import unit\n",
    "    from ase import Atoms\n",
    "    \n",
    "    # Initialize force field and database\n",
    "    forcefield = ForceField(\"openff-2.0.0.offxml\")\n",
    "    db = []\n",
    "    \n",
    "    # Generate molecule and conformers\n",
    "    molecule = Molecule.from_smiles(smiles, allow_undefined_stereo=True)\n",
    "    molecule.generate_conformers(\n",
    "        n_conformers=n_conformers, \n",
    "        rms_cutoff=rms_cutoff * unit.angstrom\n",
    "    )\n",
    "    \n",
    "    # Get atomic information (same for all conformers)\n",
    "    numbers = [at._atomic_number for at in molecule._atoms]\n",
    "    atom_indices = list(range(len(molecule._atoms)))\n",
    "    topology = Topology.from_molecules([molecule])\n",
    "    force_list = forcefield.label_molecules(topology)\n",
    "    atom_types = np.array([param.id for idx, param in force_list[0]['vdW'].items()])\n",
    "    \n",
    "    # Process each conformer\n",
    "    for i in range(molecule.n_conformers):\n",
    "        positions = molecule.conformers[i]\n",
    "        atom = Atoms(numbers=numbers, positions=positions)\n",
    "        atom.arrays['atom_types'] = atom_types\n",
    "        atom.arrays['atom_indices'] = np.array(atom_indices)\n",
    "        db.append(atom)\n",
    "    \n",
    "    return (smiles, db)\n",
    "\n",
    "\n"
   ]
  },
  {
   "cell_type": "markdown",
   "metadata": {},
   "source": [
    "### Embedding via MACE"
   ]
  },
  {
   "cell_type": "code",
   "execution_count": 36,
   "metadata": {},
   "outputs": [],
   "source": [
    "from mace.calculators import mace_mp\n",
    "import warnings\n",
    "warnings.filterwarnings(\"ignore\")\n",
    "\n",
    "def mace_featurise(db, num_layers=1):\n",
    "    \"\"\"\n",
    "    Generate MACE descriptors for a list of atomic structures.\n",
    "    \n",
    "    Parameters:\n",
    "    -----------\n",
    "    db : list\n",
    "        List of ASE Atoms objects\n",
    "    num_layers : int\n",
    "        Number of message passing layers to use\n",
    "        \n",
    "    Returns:\n",
    "    --------\n",
    "    np.ndarray\n",
    "        Array of MACE descriptors, shape (n_atoms_total, n_features)\n",
    "    \"\"\"\n",
    "    from mace.calculators import mace_mp\n",
    "    import warnings\n",
    "    warnings.filterwarnings(\"ignore\")\n",
    "    \n",
    "    # Initialize MACE calculator\n",
    "    mace = mace_mp()\n",
    "    \n",
    "    # Generate descriptors\n",
    "    desc_col = []\n",
    "    for at in tqdm(db, desc=\"Generating MACE descriptors\"):\n",
    "        desc_col.append(mace.get_descriptors(at, num_layers=num_layers))\n",
    "    \n",
    "    # Concatenate all descriptors\n",
    "    return np.concatenate(desc_col, axis=0)\n",
    "\n"
   ]
  },
  {
   "cell_type": "code",
   "execution_count": 37,
   "metadata": {},
   "outputs": [
    {
     "name": "stdout",
     "output_type": "stream",
     "text": [
      "Using Materials Project MACE for MACECalculator with /home/cree/.cache/mace/5yyxdm76\n",
      "Using float32 for MACECalculator, which is faster but less accurate. Recommended for MD. Use float64 for geometry optimization.\n",
      "Default dtype float32 does not match model dtype float64, converting models to float32.\n"
     ]
    },
    {
     "name": "stderr",
     "output_type": "stream",
     "text": [
      "Generating MACE descriptors: 100%|██████████| 1/1 [00:00<00:00, 22.14it/s]\n"
     ]
    },
    {
     "name": "stdout",
     "output_type": "stream",
     "text": [
      "Using Materials Project MACE for MACECalculator with /home/cree/.cache/mace/5yyxdm76\n",
      "Using float32 for MACECalculator, which is faster but less accurate. Recommended for MD. Use float64 for geometry optimization.\n",
      "Default dtype float32 does not match model dtype float64, converting models to float32.\n"
     ]
    },
    {
     "name": "stderr",
     "output_type": "stream",
     "text": [
      "Generating MACE descriptors: 100%|██████████| 1/1 [00:00<00:00, 25.56it/s]\n"
     ]
    },
    {
     "name": "stdout",
     "output_type": "stream",
     "text": [
      "Using Materials Project MACE for MACECalculator with /home/cree/.cache/mace/5yyxdm76\n",
      "Using float32 for MACECalculator, which is faster but less accurate. Recommended for MD. Use float64 for geometry optimization.\n",
      "Default dtype float32 does not match model dtype float64, converting models to float32.\n"
     ]
    },
    {
     "name": "stderr",
     "output_type": "stream",
     "text": [
      "Generating MACE descriptors: 100%|██████████| 4/4 [00:00<00:00, 29.33it/s]\n"
     ]
    },
    {
     "name": "stdout",
     "output_type": "stream",
     "text": [
      "Using Materials Project MACE for MACECalculator with /home/cree/.cache/mace/5yyxdm76\n",
      "Using float32 for MACECalculator, which is faster but less accurate. Recommended for MD. Use float64 for geometry optimization.\n",
      "Default dtype float32 does not match model dtype float64, converting models to float32.\n"
     ]
    },
    {
     "name": "stderr",
     "output_type": "stream",
     "text": [
      "Generating MACE descriptors: 100%|██████████| 3/3 [00:00<00:00, 24.73it/s]\n"
     ]
    },
    {
     "name": "stdout",
     "output_type": "stream",
     "text": [
      "Using Materials Project MACE for MACECalculator with /home/cree/.cache/mace/5yyxdm76\n",
      "Using float32 for MACECalculator, which is faster but less accurate. Recommended for MD. Use float64 for geometry optimization.\n",
      "Default dtype float32 does not match model dtype float64, converting models to float32.\n"
     ]
    },
    {
     "name": "stderr",
     "output_type": "stream",
     "text": [
      "Generating MACE descriptors: 100%|██████████| 5/5 [00:00<00:00, 29.93it/s]\n"
     ]
    },
    {
     "name": "stdout",
     "output_type": "stream",
     "text": [
      "Using Materials Project MACE for MACECalculator with /home/cree/.cache/mace/5yyxdm76\n",
      "Using float32 for MACECalculator, which is faster but less accurate. Recommended for MD. Use float64 for geometry optimization.\n",
      "Default dtype float32 does not match model dtype float64, converting models to float32.\n"
     ]
    },
    {
     "name": "stderr",
     "output_type": "stream",
     "text": [
      "Generating MACE descriptors: 100%|██████████| 1/1 [00:00<00:00, 24.08it/s]\n"
     ]
    },
    {
     "name": "stdout",
     "output_type": "stream",
     "text": [
      "Using Materials Project MACE for MACECalculator with /home/cree/.cache/mace/5yyxdm76\n",
      "Using float32 for MACECalculator, which is faster but less accurate. Recommended for MD. Use float64 for geometry optimization.\n",
      "Default dtype float32 does not match model dtype float64, converting models to float32.\n"
     ]
    },
    {
     "name": "stderr",
     "output_type": "stream",
     "text": [
      "Generating MACE descriptors: 100%|██████████| 100/100 [00:01<00:00, 57.23it/s]\n"
     ]
    },
    {
     "name": "stdout",
     "output_type": "stream",
     "text": [
      "Using Materials Project MACE for MACECalculator with /home/cree/.cache/mace/5yyxdm76\n",
      "Using float32 for MACECalculator, which is faster but less accurate. Recommended for MD. Use float64 for geometry optimization.\n",
      "Default dtype float32 does not match model dtype float64, converting models to float32.\n"
     ]
    },
    {
     "name": "stderr",
     "output_type": "stream",
     "text": [
      "Generating MACE descriptors: 100%|██████████| 1/1 [00:00<00:00, 26.18it/s]\n"
     ]
    },
    {
     "name": "stdout",
     "output_type": "stream",
     "text": [
      "Using Materials Project MACE for MACECalculator with /home/cree/.cache/mace/5yyxdm76\n",
      "Using float32 for MACECalculator, which is faster but less accurate. Recommended for MD. Use float64 for geometry optimization.\n",
      "Default dtype float32 does not match model dtype float64, converting models to float32.\n"
     ]
    },
    {
     "name": "stderr",
     "output_type": "stream",
     "text": [
      "Generating MACE descriptors: 100%|██████████| 2/2 [00:00<00:00, 22.15it/s]\n"
     ]
    },
    {
     "name": "stdout",
     "output_type": "stream",
     "text": [
      "Using Materials Project MACE for MACECalculator with /home/cree/.cache/mace/5yyxdm76\n",
      "Using float32 for MACECalculator, which is faster but less accurate. Recommended for MD. Use float64 for geometry optimization.\n",
      "Default dtype float32 does not match model dtype float64, converting models to float32.\n"
     ]
    },
    {
     "name": "stderr",
     "output_type": "stream",
     "text": [
      "Generating MACE descriptors: 100%|██████████| 7/7 [00:00<00:00, 37.90it/s]\n"
     ]
    },
    {
     "name": "stdout",
     "output_type": "stream",
     "text": [
      "Using Materials Project MACE for MACECalculator with /home/cree/.cache/mace/5yyxdm76\n",
      "Using float32 for MACECalculator, which is faster but less accurate. Recommended for MD. Use float64 for geometry optimization.\n",
      "Default dtype float32 does not match model dtype float64, converting models to float32.\n"
     ]
    },
    {
     "name": "stderr",
     "output_type": "stream",
     "text": [
      "Generating MACE descriptors: 100%|██████████| 9/9 [00:00<00:00, 40.93it/s]\n"
     ]
    },
    {
     "name": "stdout",
     "output_type": "stream",
     "text": [
      "Using Materials Project MACE for MACECalculator with /home/cree/.cache/mace/5yyxdm76\n",
      "Using float32 for MACECalculator, which is faster but less accurate. Recommended for MD. Use float64 for geometry optimization.\n",
      "Default dtype float32 does not match model dtype float64, converting models to float32.\n"
     ]
    },
    {
     "name": "stderr",
     "output_type": "stream",
     "text": [
      "Generating MACE descriptors: 100%|██████████| 5/5 [00:00<00:00, 32.27it/s]\n"
     ]
    },
    {
     "name": "stdout",
     "output_type": "stream",
     "text": [
      "Using Materials Project MACE for MACECalculator with /home/cree/.cache/mace/5yyxdm76\n",
      "Using float32 for MACECalculator, which is faster but less accurate. Recommended for MD. Use float64 for geometry optimization.\n",
      "Default dtype float32 does not match model dtype float64, converting models to float32.\n"
     ]
    },
    {
     "name": "stderr",
     "output_type": "stream",
     "text": [
      "Generating MACE descriptors: 100%|██████████| 6/6 [00:00<00:00, 35.09it/s]\n"
     ]
    },
    {
     "name": "stdout",
     "output_type": "stream",
     "text": [
      "Using Materials Project MACE for MACECalculator with /home/cree/.cache/mace/5yyxdm76\n",
      "Using float32 for MACECalculator, which is faster but less accurate. Recommended for MD. Use float64 for geometry optimization.\n",
      "Default dtype float32 does not match model dtype float64, converting models to float32.\n"
     ]
    },
    {
     "name": "stderr",
     "output_type": "stream",
     "text": [
      "Generating MACE descriptors: 100%|██████████| 5/5 [00:00<00:00, 32.92it/s]\n"
     ]
    },
    {
     "name": "stdout",
     "output_type": "stream",
     "text": [
      "Using Materials Project MACE for MACECalculator with /home/cree/.cache/mace/5yyxdm76\n",
      "Using float32 for MACECalculator, which is faster but less accurate. Recommended for MD. Use float64 for geometry optimization.\n",
      "Default dtype float32 does not match model dtype float64, converting models to float32.\n"
     ]
    },
    {
     "name": "stderr",
     "output_type": "stream",
     "text": [
      "Generating MACE descriptors: 100%|██████████| 5/5 [00:00<00:00, 33.02it/s]\n"
     ]
    },
    {
     "name": "stdout",
     "output_type": "stream",
     "text": [
      "Using Materials Project MACE for MACECalculator with /home/cree/.cache/mace/5yyxdm76\n",
      "Using float32 for MACECalculator, which is faster but less accurate. Recommended for MD. Use float64 for geometry optimization.\n",
      "Default dtype float32 does not match model dtype float64, converting models to float32.\n"
     ]
    },
    {
     "name": "stderr",
     "output_type": "stream",
     "text": [
      "Generating MACE descriptors: 100%|██████████| 3/3 [00:00<00:00, 25.27it/s]\n"
     ]
    },
    {
     "name": "stdout",
     "output_type": "stream",
     "text": [
      "Using Materials Project MACE for MACECalculator with /home/cree/.cache/mace/5yyxdm76\n",
      "Using float32 for MACECalculator, which is faster but less accurate. Recommended for MD. Use float64 for geometry optimization.\n",
      "Default dtype float32 does not match model dtype float64, converting models to float32.\n"
     ]
    },
    {
     "name": "stderr",
     "output_type": "stream",
     "text": [
      "Generating MACE descriptors: 100%|██████████| 6/6 [00:00<00:00, 27.59it/s]\n"
     ]
    },
    {
     "name": "stdout",
     "output_type": "stream",
     "text": [
      "Using Materials Project MACE for MACECalculator with /home/cree/.cache/mace/5yyxdm76\n",
      "Using float32 for MACECalculator, which is faster but less accurate. Recommended for MD. Use float64 for geometry optimization.\n",
      "Default dtype float32 does not match model dtype float64, converting models to float32.\n"
     ]
    },
    {
     "name": "stderr",
     "output_type": "stream",
     "text": [
      "Generating MACE descriptors: 100%|██████████| 5/5 [00:00<00:00, 32.74it/s]\n"
     ]
    },
    {
     "name": "stdout",
     "output_type": "stream",
     "text": [
      "Using Materials Project MACE for MACECalculator with /home/cree/.cache/mace/5yyxdm76\n",
      "Using float32 for MACECalculator, which is faster but less accurate. Recommended for MD. Use float64 for geometry optimization.\n",
      "Default dtype float32 does not match model dtype float64, converting models to float32.\n"
     ]
    },
    {
     "name": "stderr",
     "output_type": "stream",
     "text": [
      "Generating MACE descriptors: 100%|██████████| 3/3 [00:00<00:00, 25.14it/s]\n"
     ]
    },
    {
     "name": "stdout",
     "output_type": "stream",
     "text": [
      "Using Materials Project MACE for MACECalculator with /home/cree/.cache/mace/5yyxdm76\n",
      "Using float32 for MACECalculator, which is faster but less accurate. Recommended for MD. Use float64 for geometry optimization.\n",
      "Default dtype float32 does not match model dtype float64, converting models to float32.\n"
     ]
    },
    {
     "name": "stderr",
     "output_type": "stream",
     "text": [
      "Generating MACE descriptors: 100%|██████████| 4/4 [00:00<00:00, 29.08it/s]\n"
     ]
    },
    {
     "name": "stdout",
     "output_type": "stream",
     "text": [
      "Using Materials Project MACE for MACECalculator with /home/cree/.cache/mace/5yyxdm76\n",
      "Using float32 for MACECalculator, which is faster but less accurate. Recommended for MD. Use float64 for geometry optimization.\n",
      "Default dtype float32 does not match model dtype float64, converting models to float32.\n"
     ]
    },
    {
     "name": "stderr",
     "output_type": "stream",
     "text": [
      "Generating MACE descriptors: 100%|██████████| 2/2 [00:00<00:00, 22.25it/s]\n"
     ]
    },
    {
     "name": "stdout",
     "output_type": "stream",
     "text": [
      "Using Materials Project MACE for MACECalculator with /home/cree/.cache/mace/5yyxdm76\n",
      "Using float32 for MACECalculator, which is faster but less accurate. Recommended for MD. Use float64 for geometry optimization.\n",
      "Default dtype float32 does not match model dtype float64, converting models to float32.\n"
     ]
    },
    {
     "name": "stderr",
     "output_type": "stream",
     "text": [
      "Generating MACE descriptors: 100%|██████████| 3/3 [00:00<00:00, 25.52it/s]\n"
     ]
    },
    {
     "name": "stdout",
     "output_type": "stream",
     "text": [
      "Using Materials Project MACE for MACECalculator with /home/cree/.cache/mace/5yyxdm76\n",
      "Using float32 for MACECalculator, which is faster but less accurate. Recommended for MD. Use float64 for geometry optimization.\n",
      "Default dtype float32 does not match model dtype float64, converting models to float32.\n"
     ]
    },
    {
     "name": "stderr",
     "output_type": "stream",
     "text": [
      "Generating MACE descriptors: 100%|██████████| 4/4 [00:00<00:00, 28.68it/s]\n"
     ]
    },
    {
     "name": "stdout",
     "output_type": "stream",
     "text": [
      "Using Materials Project MACE for MACECalculator with /home/cree/.cache/mace/5yyxdm76\n",
      "Using float32 for MACECalculator, which is faster but less accurate. Recommended for MD. Use float64 for geometry optimization.\n",
      "Default dtype float32 does not match model dtype float64, converting models to float32.\n"
     ]
    },
    {
     "name": "stderr",
     "output_type": "stream",
     "text": [
      "Generating MACE descriptors: 100%|██████████| 4/4 [00:00<00:00, 28.99it/s]\n"
     ]
    },
    {
     "name": "stdout",
     "output_type": "stream",
     "text": [
      "Using Materials Project MACE for MACECalculator with /home/cree/.cache/mace/5yyxdm76\n",
      "Using float32 for MACECalculator, which is faster but less accurate. Recommended for MD. Use float64 for geometry optimization.\n",
      "Default dtype float32 does not match model dtype float64, converting models to float32.\n"
     ]
    },
    {
     "name": "stderr",
     "output_type": "stream",
     "text": [
      "Generating MACE descriptors: 100%|██████████| 77/77 [00:01<00:00, 60.01it/s]\n"
     ]
    },
    {
     "name": "stdout",
     "output_type": "stream",
     "text": [
      "Using Materials Project MACE for MACECalculator with /home/cree/.cache/mace/5yyxdm76\n",
      "Using float32 for MACECalculator, which is faster but less accurate. Recommended for MD. Use float64 for geometry optimization.\n",
      "Default dtype float32 does not match model dtype float64, converting models to float32.\n"
     ]
    },
    {
     "name": "stderr",
     "output_type": "stream",
     "text": [
      "Generating MACE descriptors: 100%|██████████| 6/6 [00:00<00:00, 35.99it/s]\n"
     ]
    },
    {
     "name": "stdout",
     "output_type": "stream",
     "text": [
      "Using Materials Project MACE for MACECalculator with /home/cree/.cache/mace/5yyxdm76\n",
      "Using float32 for MACECalculator, which is faster but less accurate. Recommended for MD. Use float64 for geometry optimization.\n",
      "Default dtype float32 does not match model dtype float64, converting models to float32.\n"
     ]
    },
    {
     "name": "stderr",
     "output_type": "stream",
     "text": [
      "Generating MACE descriptors: 100%|██████████| 4/4 [00:00<00:00, 28.99it/s]\n"
     ]
    },
    {
     "name": "stdout",
     "output_type": "stream",
     "text": [
      "Using Materials Project MACE for MACECalculator with /home/cree/.cache/mace/5yyxdm76\n",
      "Using float32 for MACECalculator, which is faster but less accurate. Recommended for MD. Use float64 for geometry optimization.\n",
      "Default dtype float32 does not match model dtype float64, converting models to float32.\n"
     ]
    },
    {
     "name": "stderr",
     "output_type": "stream",
     "text": [
      "Generating MACE descriptors: 100%|██████████| 4/4 [00:00<00:00, 29.68it/s]\n"
     ]
    },
    {
     "name": "stdout",
     "output_type": "stream",
     "text": [
      "Using Materials Project MACE for MACECalculator with /home/cree/.cache/mace/5yyxdm76\n",
      "Using float32 for MACECalculator, which is faster but less accurate. Recommended for MD. Use float64 for geometry optimization.\n",
      "Default dtype float32 does not match model dtype float64, converting models to float32.\n"
     ]
    },
    {
     "name": "stderr",
     "output_type": "stream",
     "text": [
      "Generating MACE descriptors: 100%|██████████| 2/2 [00:00<00:00, 22.69it/s]\n"
     ]
    },
    {
     "name": "stdout",
     "output_type": "stream",
     "text": [
      "Using Materials Project MACE for MACECalculator with /home/cree/.cache/mace/5yyxdm76\n",
      "Using float32 for MACECalculator, which is faster but less accurate. Recommended for MD. Use float64 for geometry optimization.\n",
      "Default dtype float32 does not match model dtype float64, converting models to float32.\n"
     ]
    },
    {
     "name": "stderr",
     "output_type": "stream",
     "text": [
      "Generating MACE descriptors: 100%|██████████| 3/3 [00:00<00:00, 25.37it/s]\n"
     ]
    },
    {
     "name": "stdout",
     "output_type": "stream",
     "text": [
      "Using Materials Project MACE for MACECalculator with /home/cree/.cache/mace/5yyxdm76\n",
      "Using float32 for MACECalculator, which is faster but less accurate. Recommended for MD. Use float64 for geometry optimization.\n",
      "Default dtype float32 does not match model dtype float64, converting models to float32.\n"
     ]
    },
    {
     "name": "stderr",
     "output_type": "stream",
     "text": [
      "Generating MACE descriptors: 100%|██████████| 5/5 [00:00<00:00, 32.71it/s]\n"
     ]
    },
    {
     "name": "stdout",
     "output_type": "stream",
     "text": [
      "Using Materials Project MACE for MACECalculator with /home/cree/.cache/mace/5yyxdm76\n",
      "Using float32 for MACECalculator, which is faster but less accurate. Recommended for MD. Use float64 for geometry optimization.\n",
      "Default dtype float32 does not match model dtype float64, converting models to float32.\n"
     ]
    },
    {
     "name": "stderr",
     "output_type": "stream",
     "text": [
      "Generating MACE descriptors: 100%|██████████| 3/3 [00:00<00:00, 21.25it/s]\n"
     ]
    },
    {
     "name": "stdout",
     "output_type": "stream",
     "text": [
      "Using Materials Project MACE for MACECalculator with /home/cree/.cache/mace/5yyxdm76\n",
      "Using float32 for MACECalculator, which is faster but less accurate. Recommended for MD. Use float64 for geometry optimization.\n",
      "Default dtype float32 does not match model dtype float64, converting models to float32.\n"
     ]
    },
    {
     "name": "stderr",
     "output_type": "stream",
     "text": [
      "Generating MACE descriptors: 100%|██████████| 7/7 [00:00<00:00, 37.03it/s]\n"
     ]
    },
    {
     "name": "stdout",
     "output_type": "stream",
     "text": [
      "Using Materials Project MACE for MACECalculator with /home/cree/.cache/mace/5yyxdm76\n",
      "Using float32 for MACECalculator, which is faster but less accurate. Recommended for MD. Use float64 for geometry optimization.\n",
      "Default dtype float32 does not match model dtype float64, converting models to float32.\n"
     ]
    },
    {
     "name": "stderr",
     "output_type": "stream",
     "text": [
      "Generating MACE descriptors: 100%|██████████| 3/3 [00:00<00:00, 24.79it/s]\n"
     ]
    },
    {
     "name": "stdout",
     "output_type": "stream",
     "text": [
      "Using Materials Project MACE for MACECalculator with /home/cree/.cache/mace/5yyxdm76\n",
      "Using float32 for MACECalculator, which is faster but less accurate. Recommended for MD. Use float64 for geometry optimization.\n",
      "Default dtype float32 does not match model dtype float64, converting models to float32.\n"
     ]
    },
    {
     "name": "stderr",
     "output_type": "stream",
     "text": [
      "Generating MACE descriptors: 100%|██████████| 8/8 [00:00<00:00, 39.67it/s]\n"
     ]
    },
    {
     "name": "stdout",
     "output_type": "stream",
     "text": [
      "Using Materials Project MACE for MACECalculator with /home/cree/.cache/mace/5yyxdm76\n",
      "Using float32 for MACECalculator, which is faster but less accurate. Recommended for MD. Use float64 for geometry optimization.\n",
      "Default dtype float32 does not match model dtype float64, converting models to float32.\n"
     ]
    },
    {
     "name": "stderr",
     "output_type": "stream",
     "text": [
      "Generating MACE descriptors: 100%|██████████| 2/2 [00:00<00:00, 21.96it/s]\n"
     ]
    },
    {
     "name": "stdout",
     "output_type": "stream",
     "text": [
      "Using Materials Project MACE for MACECalculator with /home/cree/.cache/mace/5yyxdm76\n",
      "Using float32 for MACECalculator, which is faster but less accurate. Recommended for MD. Use float64 for geometry optimization.\n",
      "Default dtype float32 does not match model dtype float64, converting models to float32.\n"
     ]
    },
    {
     "name": "stderr",
     "output_type": "stream",
     "text": [
      "Generating MACE descriptors: 100%|██████████| 5/5 [00:00<00:00, 31.10it/s]\n"
     ]
    },
    {
     "name": "stdout",
     "output_type": "stream",
     "text": [
      "Using Materials Project MACE for MACECalculator with /home/cree/.cache/mace/5yyxdm76\n",
      "Using float32 for MACECalculator, which is faster but less accurate. Recommended for MD. Use float64 for geometry optimization.\n",
      "Default dtype float32 does not match model dtype float64, converting models to float32.\n"
     ]
    },
    {
     "name": "stderr",
     "output_type": "stream",
     "text": [
      "Generating MACE descriptors: 100%|██████████| 2/2 [00:00<00:00, 20.95it/s]\n"
     ]
    },
    {
     "name": "stdout",
     "output_type": "stream",
     "text": [
      "Using Materials Project MACE for MACECalculator with /home/cree/.cache/mace/5yyxdm76\n",
      "Using float32 for MACECalculator, which is faster but less accurate. Recommended for MD. Use float64 for geometry optimization.\n",
      "Default dtype float32 does not match model dtype float64, converting models to float32.\n"
     ]
    },
    {
     "name": "stderr",
     "output_type": "stream",
     "text": [
      "Generating MACE descriptors: 100%|██████████| 1/1 [00:00<00:00, 24.17it/s]\n"
     ]
    },
    {
     "name": "stdout",
     "output_type": "stream",
     "text": [
      "Using Materials Project MACE for MACECalculator with /home/cree/.cache/mace/5yyxdm76\n",
      "Using float32 for MACECalculator, which is faster but less accurate. Recommended for MD. Use float64 for geometry optimization.\n",
      "Default dtype float32 does not match model dtype float64, converting models to float32.\n"
     ]
    },
    {
     "name": "stderr",
     "output_type": "stream",
     "text": [
      "Generating MACE descriptors: 100%|██████████| 4/4 [00:00<00:00, 29.28it/s]\n"
     ]
    },
    {
     "name": "stdout",
     "output_type": "stream",
     "text": [
      "Using Materials Project MACE for MACECalculator with /home/cree/.cache/mace/5yyxdm76\n",
      "Using float32 for MACECalculator, which is faster but less accurate. Recommended for MD. Use float64 for geometry optimization.\n",
      "Default dtype float32 does not match model dtype float64, converting models to float32.\n"
     ]
    },
    {
     "name": "stderr",
     "output_type": "stream",
     "text": [
      "Generating MACE descriptors: 100%|██████████| 3/3 [00:00<00:00, 24.43it/s]\n"
     ]
    },
    {
     "name": "stdout",
     "output_type": "stream",
     "text": [
      "Using Materials Project MACE for MACECalculator with /home/cree/.cache/mace/5yyxdm76\n",
      "Using float32 for MACECalculator, which is faster but less accurate. Recommended for MD. Use float64 for geometry optimization.\n",
      "Default dtype float32 does not match model dtype float64, converting models to float32.\n"
     ]
    },
    {
     "name": "stderr",
     "output_type": "stream",
     "text": [
      "Generating MACE descriptors: 100%|██████████| 3/3 [00:00<00:00, 25.38it/s]\n"
     ]
    },
    {
     "name": "stdout",
     "output_type": "stream",
     "text": [
      "Using Materials Project MACE for MACECalculator with /home/cree/.cache/mace/5yyxdm76\n",
      "Using float32 for MACECalculator, which is faster but less accurate. Recommended for MD. Use float64 for geometry optimization.\n",
      "Default dtype float32 does not match model dtype float64, converting models to float32.\n"
     ]
    },
    {
     "name": "stderr",
     "output_type": "stream",
     "text": [
      "Generating MACE descriptors: 100%|██████████| 3/3 [00:00<00:00, 24.89it/s]\n"
     ]
    },
    {
     "name": "stdout",
     "output_type": "stream",
     "text": [
      "Using Materials Project MACE for MACECalculator with /home/cree/.cache/mace/5yyxdm76\n",
      "Using float32 for MACECalculator, which is faster but less accurate. Recommended for MD. Use float64 for geometry optimization.\n",
      "Default dtype float32 does not match model dtype float64, converting models to float32.\n"
     ]
    },
    {
     "name": "stderr",
     "output_type": "stream",
     "text": [
      "Generating MACE descriptors: 100%|██████████| 8/8 [00:00<00:00, 40.20it/s]\n"
     ]
    },
    {
     "name": "stdout",
     "output_type": "stream",
     "text": [
      "Using Materials Project MACE for MACECalculator with /home/cree/.cache/mace/5yyxdm76\n",
      "Using float32 for MACECalculator, which is faster but less accurate. Recommended for MD. Use float64 for geometry optimization.\n",
      "Default dtype float32 does not match model dtype float64, converting models to float32.\n"
     ]
    },
    {
     "name": "stderr",
     "output_type": "stream",
     "text": [
      "Generating MACE descriptors: 100%|██████████| 2/2 [00:00<00:00, 22.20it/s]\n"
     ]
    },
    {
     "name": "stdout",
     "output_type": "stream",
     "text": [
      "Using Materials Project MACE for MACECalculator with /home/cree/.cache/mace/5yyxdm76\n",
      "Using float32 for MACECalculator, which is faster but less accurate. Recommended for MD. Use float64 for geometry optimization.\n",
      "Default dtype float32 does not match model dtype float64, converting models to float32.\n"
     ]
    },
    {
     "name": "stderr",
     "output_type": "stream",
     "text": [
      "Generating MACE descriptors: 100%|██████████| 1/1 [00:00<00:00, 25.65it/s]\n"
     ]
    },
    {
     "name": "stdout",
     "output_type": "stream",
     "text": [
      "Using Materials Project MACE for MACECalculator with /home/cree/.cache/mace/5yyxdm76\n",
      "Using float32 for MACECalculator, which is faster but less accurate. Recommended for MD. Use float64 for geometry optimization.\n",
      "Default dtype float32 does not match model dtype float64, converting models to float32.\n"
     ]
    },
    {
     "name": "stderr",
     "output_type": "stream",
     "text": [
      "Generating MACE descriptors: 100%|██████████| 15/15 [00:00<00:00, 47.42it/s]\n"
     ]
    },
    {
     "name": "stdout",
     "output_type": "stream",
     "text": [
      "Using Materials Project MACE for MACECalculator with /home/cree/.cache/mace/5yyxdm76\n",
      "Using float32 for MACECalculator, which is faster but less accurate. Recommended for MD. Use float64 for geometry optimization.\n",
      "Default dtype float32 does not match model dtype float64, converting models to float32.\n"
     ]
    },
    {
     "name": "stderr",
     "output_type": "stream",
     "text": [
      "Generating MACE descriptors: 100%|██████████| 32/32 [00:00<00:00, 54.51it/s]\n"
     ]
    },
    {
     "name": "stdout",
     "output_type": "stream",
     "text": [
      "Using Materials Project MACE for MACECalculator with /home/cree/.cache/mace/5yyxdm76\n",
      "Using float32 for MACECalculator, which is faster but less accurate. Recommended for MD. Use float64 for geometry optimization.\n",
      "Default dtype float32 does not match model dtype float64, converting models to float32.\n"
     ]
    },
    {
     "name": "stderr",
     "output_type": "stream",
     "text": [
      "Generating MACE descriptors: 100%|██████████| 31/31 [00:00<00:00, 53.95it/s]\n"
     ]
    },
    {
     "name": "stdout",
     "output_type": "stream",
     "text": [
      "Using Materials Project MACE for MACECalculator with /home/cree/.cache/mace/5yyxdm76\n",
      "Using float32 for MACECalculator, which is faster but less accurate. Recommended for MD. Use float64 for geometry optimization.\n",
      "Default dtype float32 does not match model dtype float64, converting models to float32.\n"
     ]
    },
    {
     "name": "stderr",
     "output_type": "stream",
     "text": [
      "Generating MACE descriptors: 100%|██████████| 14/14 [00:00<00:00, 47.18it/s]\n"
     ]
    }
   ],
   "source": [
    "descs_list = []\n",
    "db_list = []\n",
    "for smi in smiles_list:\n",
    "    db = label_conformers(smi)\n",
    "    db_list.append(db)\n",
    "    descs = mace_featurise(db[1])\n",
    "    descs_list.append(descs)\n",
    "    \n",
    "\n",
    "descs = np.concatenate(descs_list, axis=0)"
   ]
  },
  {
   "cell_type": "markdown",
   "metadata": {},
   "source": [
    "### Dimensionality reduction of MACE embeddings using UMAP"
   ]
  },
  {
   "cell_type": "code",
   "execution_count": 38,
   "metadata": {},
   "outputs": [],
   "source": [
    "reducer = UMAP(n_neighbors=50, min_dist=0.5, n_components=2, random_state=0xDEAD)\n",
    "descs_reduced = reducer.fit_transform(descs)\n",
    "\n",
    "#%store -r descs_reduced\n"
   ]
  },
  {
   "cell_type": "code",
   "execution_count": 39,
   "metadata": {},
   "outputs": [
    {
     "data": {
      "text/plain": [
       "{'n4': 0,\n",
       " 'n2': 1,\n",
       " 'n6': 2,\n",
       " 'n20': 3,\n",
       " 'n8': 4,\n",
       " 'n19': 5,\n",
       " 'n17': 6,\n",
       " 'n14': 7,\n",
       " 'n3': 8,\n",
       " 'n12': 9,\n",
       " 'n11': 10,\n",
       " 'n16': 11,\n",
       " 'n25': 12,\n",
       " 'n24': 13,\n",
       " 'n21': 14,\n",
       " 'n18': 15}"
      ]
     },
     "execution_count": 39,
     "metadata": {},
     "output_type": "execute_result"
    }
   ],
   "source": [
    "def get_atom_types(db_list):\n",
    "    \"\"\"\n",
    "    Extract unique atom types from a list of (SMILES, conformers) pairs.\n",
    "    \n",
    "    Parameters:\n",
    "    -----------\n",
    "    db_list : list\n",
    "        List of tuples (SMILES, conformers)\n",
    "        \n",
    "    Returns:\n",
    "    --------\n",
    "    dict\n",
    "        Mapping of atom types to numeric labels\n",
    "    list\n",
    "        List of numeric labels for all atoms\n",
    "    \"\"\"\n",
    "    # Get all atom types from all molecules\n",
    "    types_list = []\n",
    "    labels_list = []\n",
    "    for db in db_list:\n",
    "        types = [l for at in db[1] for l in at.arrays['atom_types']]\n",
    "        types_list.extend(types)\n",
    "\n",
    "    types2labels = {t: l for l, t in enumerate(set(types_list))}\n",
    "    labels = [types2labels[t] for t in types_list]\n",
    "\n",
    "    \n",
    "    return types2labels, labels\n",
    "\n",
    "types2labels, labels = get_atom_types(db_list)\n",
    "types2labels\n"
   ]
  },
  {
   "cell_type": "markdown",
   "metadata": {},
   "source": [
    "### UMAP Plot"
   ]
  },
  {
   "cell_type": "code",
   "execution_count": 40,
   "metadata": {},
   "outputs": [
    {
     "name": "stdout",
     "output_type": "stream",
     "text": [
      "Number of points in UMAP: 7670\n"
     ]
    },
    {
     "data": {
      "image/png": "[encoded data removed]",
      "text/plain": [
       "<Figure size 1000x800 with 2 Axes>"
      ]
     },
     "metadata": {},
     "output_type": "display_data"
    }
   ],
   "source": [
    "# Coloured by OPENFF atom type\n",
    "tab20 = cm.get_cmap('tab20')\n",
    "custom_cmap = tab20.colors[:len(types2labels)]\n",
    "\n",
    "print(f\"Number of points in UMAP: {descs_reduced.shape[0]}\")\n",
    "\n",
    "\n",
    "plt.figure(figsize=(10, 8))\n",
    "h = plt.scatter(descs_reduced[:,0], descs_reduced[:,1], s=5, c=labels, cmap=ListedColormap(custom_cmap))\n",
    "cbar = plt.colorbar(h, ticks = range(len(types2labels)), label='OpenFF types')\n",
    "plt.clim(-0.5, len(types2labels) - 0.5)\n",
    "unique_types = sorted(types2labels.keys())\n",
    "cbar.set_ticklabels(unique_types)\n"
   ]
  },
  {
   "cell_type": "markdown",
   "metadata": {},
   "source": [
    "### Cluster Analysis"
   ]
  },
  {
   "cell_type": "code",
   "execution_count": 41,
   "metadata": {},
   "outputs": [
    {
     "data": {
      "text/html": [
       "<div>\n",
       "<style scoped>\n",
       "    .dataframe tbody tr th:only-of-type {\n",
       "        vertical-align: middle;\n",
       "    }\n",
       "\n",
       "    .dataframe tbody tr th {\n",
       "        vertical-align: top;\n",
       "    }\n",
       "\n",
       "    .dataframe thead th {\n",
       "        text-align: right;\n",
       "    }\n",
       "</style>\n",
       "<table border=\"1\" class=\"dataframe\">\n",
       "  <thead>\n",
       "    <tr style=\"text-align: right;\">\n",
       "      <th></th>\n",
       "      <th>Smiles</th>\n",
       "      <th>mol_idx</th>\n",
       "      <th>atom_id</th>\n",
       "      <th>x</th>\n",
       "      <th>y</th>\n",
       "      <th>atom_types</th>\n",
       "      <th>cluster_id</th>\n",
       "    </tr>\n",
       "  </thead>\n",
       "  <tbody>\n",
       "    <tr>\n",
       "      <th>0</th>\n",
       "      <td>[NH3+]C12C3C4C1C1C2C3C41[NH3+]</td>\n",
       "      <td>0</td>\n",
       "      <td>0</td>\n",
       "      <td>-3.932169</td>\n",
       "      <td>22.451443</td>\n",
       "      <td>n20</td>\n",
       "      <td>-1</td>\n",
       "    </tr>\n",
       "    <tr>\n",
       "      <th>1</th>\n",
       "      <td>[NH3+]C12C3C4C1C1C2C3C41[NH3+]</td>\n",
       "      <td>0</td>\n",
       "      <td>1</td>\n",
       "      <td>-6.441707</td>\n",
       "      <td>-1.211391</td>\n",
       "      <td>n16</td>\n",
       "      <td>-1</td>\n",
       "    </tr>\n",
       "    <tr>\n",
       "      <th>2</th>\n",
       "      <td>[NH3+]C12C3C4C1C1C2C3C41[NH3+]</td>\n",
       "      <td>0</td>\n",
       "      <td>2</td>\n",
       "      <td>-6.783334</td>\n",
       "      <td>-0.895365</td>\n",
       "      <td>n16</td>\n",
       "      <td>-1</td>\n",
       "    </tr>\n",
       "    <tr>\n",
       "      <th>3</th>\n",
       "      <td>[NH3+]C12C3C4C1C1C2C3C41[NH3+]</td>\n",
       "      <td>0</td>\n",
       "      <td>3</td>\n",
       "      <td>-6.777421</td>\n",
       "      <td>-0.892478</td>\n",
       "      <td>n16</td>\n",
       "      <td>-1</td>\n",
       "    </tr>\n",
       "    <tr>\n",
       "      <th>4</th>\n",
       "      <td>[NH3+]C12C3C4C1C1C2C3C41[NH3+]</td>\n",
       "      <td>0</td>\n",
       "      <td>4</td>\n",
       "      <td>-6.784262</td>\n",
       "      <td>-0.892389</td>\n",
       "      <td>n16</td>\n",
       "      <td>-1</td>\n",
       "    </tr>\n",
       "  </tbody>\n",
       "</table>\n",
       "</div>"
      ],
      "text/plain": [
       "                           Smiles  mol_idx  atom_id         x          y  \\\n",
       "0  [NH3+]C12C3C4C1C1C2C3C41[NH3+]        0        0 -3.932169  22.451443   \n",
       "1  [NH3+]C12C3C4C1C1C2C3C41[NH3+]        0        1 -6.441707  -1.211391   \n",
       "2  [NH3+]C12C3C4C1C1C2C3C41[NH3+]        0        2 -6.783334  -0.895365   \n",
       "3  [NH3+]C12C3C4C1C1C2C3C41[NH3+]        0        3 -6.777421  -0.892478   \n",
       "4  [NH3+]C12C3C4C1C1C2C3C41[NH3+]        0        4 -6.784262  -0.892389   \n",
       "\n",
       "  atom_types  cluster_id  \n",
       "0        n20          -1  \n",
       "1        n16          -1  \n",
       "2        n16          -1  \n",
       "3        n16          -1  \n",
       "4        n16          -1  "
      ]
     },
     "execution_count": 41,
     "metadata": {},
     "output_type": "execute_result"
    }
   ],
   "source": [
    "\n",
    "# needed for hover in interactive bokeh plot\n",
    "def smi2svg(smi):\n",
    "    mol = Chem.MolFromSmarts(smi)\n",
    "    AllChem.Compute2DCoords(mol)\n",
    "    \n",
    "    d2d = Draw.rdMolDraw2D.MolDraw2DSVG(800, 400)\n",
    "    d2d.drawOptions().addAtomIndices = True\n",
    "    d2d.DrawMolecule(mol)\n",
    "    d2d.FinishDrawing()\n",
    "    return d2d.GetDrawingText()\n",
    "\n",
    "# creates the final data df, which is used by bokeh to generate the interactive plot\n",
    "def create_df(db, descs_reduced):\n",
    "    all_smiles = []\n",
    "    all_atom_ids = []\n",
    "    all_descs = []\n",
    "    all_atom_types = []\n",
    "    all_mol_idx = []\n",
    "    \n",
    "    # for each mol\n",
    "    for mol_idx, atoms in enumerate(db[1]):\n",
    "        mol_smiles = db[0]  \n",
    "        atom_indices = atoms.arrays['atom_indices']  \n",
    "        atom_types = atoms.arrays['atom_types']  \n",
    "        \n",
    "        # entry for each atom in this molecule\n",
    "        for atom_idx in range(len(atom_indices)):\n",
    "            all_smiles.append(mol_smiles)\n",
    "            all_atom_ids.append(atom_indices[atom_idx])\n",
    "            all_descs.append(descs_reduced[len(all_descs)])\n",
    "            all_atom_types.append(atom_types[atom_idx])\n",
    "            all_mol_idx.append(mol_idx)\n",
    "    \n",
    "    df = pd.DataFrame({\n",
    "        'Smiles': all_smiles,\n",
    "        'mol_idx': all_mol_idx,\n",
    "        'atom_id': all_atom_ids,\n",
    "        'x': [desc[0] for desc in all_descs],\n",
    "        'y': [desc[1] for desc in all_descs],\n",
    "        'atom_types': all_atom_types\n",
    "    })\n",
    "    \n",
    "\n",
    "    # hyperparams arbitrary\n",
    "    clusterer = hdbscan.HDBSCAN(\n",
    "        min_cluster_size=10,  \n",
    "        min_samples=5,        \n",
    "        metric='euclidean'\n",
    "    )\n",
    "\n",
    "    coords = df[['x', 'y']].values\n",
    "    df['cluster_id'] = clusterer.fit_predict(coords)\n",
    "    \n",
    "    return df\n",
    "\n",
    "dfs = []\n",
    "for db in db_list:\n",
    "    df = create_df(db, descs_reduced)\n",
    "    dfs.append(df)\n",
    "\n",
    "df = pd.concat(dfs)\n",
    "df.head()"
   ]
  },
  {
   "cell_type": "code",
   "execution_count": 42,
   "metadata": {},
   "outputs": [
    {
     "name": "stdout",
     "output_type": "stream",
     "text": [
      "\n",
      "Summary:\n",
      "Number of unique atom IDs with multiple clusters: 25\n",
      "Total inconsistent assignments: 701\n",
      "\n",
      "Distribution of clusters per atom:\n",
      "Atoms appearing in 2 clusters: 271\n",
      "Atoms appearing in 3 clusters: 133\n",
      "Atoms appearing in 4 clusters: 84\n",
      "Atoms appearing in 5 clusters: 74\n",
      "Atoms appearing in 6 clusters: 25\n",
      "Atoms appearing in 7 clusters: 4\n",
      "Atoms appearing in 8 clusters: 10\n",
      "Atoms appearing in 9 clusters: 20\n",
      "Atoms appearing in 10 clusters: 13\n",
      "Atoms appearing in 11 clusters: 8\n",
      "Atoms appearing in 12 clusters: 13\n",
      "Atoms appearing in 13 clusters: 20\n",
      "Atoms appearing in 14 clusters: 8\n",
      "Atoms appearing in 15 clusters: 5\n",
      "Atoms appearing in 16 clusters: 9\n",
      "Atoms appearing in 17 clusters: 2\n",
      "Atoms appearing in 18 clusters: 2\n",
      "\n",
      "Example cases:\n",
      "\n",
      "SMILES: Brc1nc2nc(Br)c(Br)nc2[nH]1\n",
      "Atom ID: 0\n",
      "Appears in clusters: [0, 1, 2, 4]\n",
      "\n",
      "SMILES: Brc1nc2nc(Br)c(Br)nc2[nH]1\n",
      "Atom ID: 1\n",
      "Appears in clusters: [0, 1, 2, 3, 4, -1]\n",
      "\n",
      "SMILES: Brc1nc2nc(Br)c(Br)nc2[nH]1\n",
      "Atom ID: 2\n",
      "Appears in clusters: [1, 2, 3, 4, -1]\n",
      "\n",
      "SMILES: Brc1nc2nc(Br)c(Br)nc2[nH]1\n",
      "Atom ID: 3\n",
      "Appears in clusters: [0, 2, 3, 4]\n",
      "\n",
      "SMILES: Brc1nc2nc(Br)c(Br)nc2[nH]1\n",
      "Atom ID: 4\n",
      "Appears in clusters: [0, 1, 2, 3, 4]\n"
     ]
    }
   ],
   "source": [
    "\n",
    "def check_cluster_consistency(df):\n",
    "    \"\"\"\n",
    "    Check if atoms get assigned to different clusters across conformers of the same molecule.\n",
    "    \n",
    "    Parameters:\n",
    "    -----------\n",
    "    df : pd.DataFrame\n",
    "        DataFrame with columns: Smiles, mol_idx, atom_id, cluster_id\n",
    "        \n",
    "    Returns:\n",
    "    --------\n",
    "    pd.DataFrame\n",
    "        DataFrame showing atoms with inconsistent cluster assignments\n",
    "    \"\"\"\n",
    "    # Group by SMILES and atom_id, get unique cluster assignments\n",
    "    inconsistent = df.groupby(['Smiles', 'atom_id'])['cluster_id'].agg(\n",
    "        unique_clusters=lambda x: list(set(x)),\n",
    "        num_clusters=lambda x: len(set(x))\n",
    "    )\n",
    "    \n",
    "    # Filter for atoms that appear in multiple clusters\n",
    "    inconsistent = inconsistent[inconsistent['num_clusters'] > 1]\n",
    "    \n",
    "    if len(inconsistent) > 0:\n",
    "        # Count unique atom_ids with multiple clusters\n",
    "        unique_atom_ids = inconsistent.index.get_level_values('atom_id').nunique()\n",
    "        print(f\"\\nSummary:\")\n",
    "        print(f\"Number of unique atom IDs with multiple clusters: {unique_atom_ids}\")\n",
    "        print(f\"Total inconsistent assignments: {len(inconsistent)}\")\n",
    "        \n",
    "        # Get distribution of number of clusters per atom\n",
    "        cluster_counts = inconsistent['num_clusters'].value_counts().sort_index()\n",
    "        print(\"\\nDistribution of clusters per atom:\")\n",
    "        for n_clusters, count in cluster_counts.items():\n",
    "            print(f\"Atoms appearing in {n_clusters} clusters: {count}\")\n",
    "            \n",
    "        # Optional: show some examples\n",
    "        print(\"\\nExample cases:\")\n",
    "        for (smiles, atom_id), row in inconsistent.head().iterrows():\n",
    "            print(f\"\\nSMILES: {smiles}\")\n",
    "            print(f\"Atom ID: {atom_id}\")\n",
    "            print(f\"Appears in clusters: {row['unique_clusters']}\")\n",
    "    else:\n",
    "        print(\"All atoms are consistently clustered across conformers\")\n",
    "    \n",
    "    return inconsistent\n",
    "\n",
    "inconsistent = check_cluster_consistency(df)"
   ]
  },
  {
   "cell_type": "code",
   "execution_count": 43,
   "metadata": {},
   "outputs": [
    {
     "data": {
      "text/html": [
       "<div>\n",
       "<style scoped>\n",
       "    .dataframe tbody tr th:only-of-type {\n",
       "        vertical-align: middle;\n",
       "    }\n",
       "\n",
       "    .dataframe tbody tr th {\n",
       "        vertical-align: top;\n",
       "    }\n",
       "\n",
       "    .dataframe thead th {\n",
       "        text-align: right;\n",
       "    }\n",
       "</style>\n",
       "<table border=\"1\" class=\"dataframe\">\n",
       "  <thead>\n",
       "    <tr style=\"text-align: right;\">\n",
       "      <th></th>\n",
       "      <th>Smiles</th>\n",
       "      <th>mol_idx</th>\n",
       "      <th>atom_id</th>\n",
       "      <th>x</th>\n",
       "      <th>y</th>\n",
       "      <th>atom_types</th>\n",
       "      <th>cluster_id</th>\n",
       "    </tr>\n",
       "  </thead>\n",
       "  <tbody>\n",
       "    <tr>\n",
       "      <th>1</th>\n",
       "      <td>Nc1nc2[nH]c(O)nc2c(=O)[nH]1</td>\n",
       "      <td>0</td>\n",
       "      <td>1</td>\n",
       "      <td>-6.441707</td>\n",
       "      <td>-1.211391</td>\n",
       "      <td>n14</td>\n",
       "      <td>2</td>\n",
       "    </tr>\n",
       "    <tr>\n",
       "      <th>18</th>\n",
       "      <td>Nc1nc2[nH]c(O)nc2c(=O)[nH]1</td>\n",
       "      <td>1</td>\n",
       "      <td>1</td>\n",
       "      <td>14.755436</td>\n",
       "      <td>-3.936475</td>\n",
       "      <td>n14</td>\n",
       "      <td>4</td>\n",
       "    </tr>\n",
       "    <tr>\n",
       "      <th>35</th>\n",
       "      <td>Nc1nc2[nH]c(O)nc2c(=O)[nH]1</td>\n",
       "      <td>2</td>\n",
       "      <td>1</td>\n",
       "      <td>15.292462</td>\n",
       "      <td>-3.766339</td>\n",
       "      <td>n14</td>\n",
       "      <td>4</td>\n",
       "    </tr>\n",
       "    <tr>\n",
       "      <th>52</th>\n",
       "      <td>Nc1nc2[nH]c(O)nc2c(=O)[nH]1</td>\n",
       "      <td>3</td>\n",
       "      <td>1</td>\n",
       "      <td>9.765222</td>\n",
       "      <td>18.930138</td>\n",
       "      <td>n14</td>\n",
       "      <td>0</td>\n",
       "    </tr>\n",
       "    <tr>\n",
       "      <th>69</th>\n",
       "      <td>Nc1nc2[nH]c(O)nc2c(=O)[nH]1</td>\n",
       "      <td>4</td>\n",
       "      <td>1</td>\n",
       "      <td>0.469430</td>\n",
       "      <td>-6.907601</td>\n",
       "      <td>n14</td>\n",
       "      <td>1</td>\n",
       "    </tr>\n",
       "  </tbody>\n",
       "</table>\n",
       "</div>"
      ],
      "text/plain": [
       "                         Smiles  mol_idx  atom_id          x          y  \\\n",
       "1   Nc1nc2[nH]c(O)nc2c(=O)[nH]1        0        1  -6.441707  -1.211391   \n",
       "18  Nc1nc2[nH]c(O)nc2c(=O)[nH]1        1        1  14.755436  -3.936475   \n",
       "35  Nc1nc2[nH]c(O)nc2c(=O)[nH]1        2        1  15.292462  -3.766339   \n",
       "52  Nc1nc2[nH]c(O)nc2c(=O)[nH]1        3        1   9.765222  18.930138   \n",
       "69  Nc1nc2[nH]c(O)nc2c(=O)[nH]1        4        1   0.469430  -6.907601   \n",
       "\n",
       "   atom_types  cluster_id  \n",
       "1         n14           2  \n",
       "18        n14           4  \n",
       "35        n14           4  \n",
       "52        n14           0  \n",
       "69        n14           1  "
      ]
     },
     "execution_count": 43,
     "metadata": {},
     "output_type": "execute_result"
    }
   ],
   "source": [
    "# Some mols have the same atom assigned to different clusters, and so the MACE embedding is not conformer independent, as expected\n",
    "# Perhaps try a larger and more varied dataset and see if that fixes it\n",
    "\n",
    "# example mol with an atom assigned to different clusters, x & y coords are very different so not just a clustering artifact\n",
    "# does assume UMAP has correctly reduced the embedding, though\n",
    "df[(df['Smiles'] == 'Nc1nc2[nH]c(O)nc2c(=O)[nH]1') & (df['atom_id'] == 1)]"
   ]
  },
  {
   "cell_type": "code",
   "execution_count": 44,
   "metadata": {},
   "outputs": [],
   "source": [
    "# Save df\n",
    "df.to_csv('clustered_dataset.csv')"
   ]
  },
  {
   "cell_type": "markdown",
   "metadata": {},
   "source": [
    "### Generate Interactive UMAP Plot"
   ]
  },
  {
   "cell_type": "code",
   "execution_count": 49,
   "metadata": {},
   "outputs": [],
   "source": [
    "\n",
    "\n",
    "def plot_umap_atoms_colored(df, filename=None):\n",
    "    \"\"\"\n",
    "    Create an interactive UMAP plot with points colored by MACE atom type.\n",
    "    \"\"\"\n",
    "    from bokeh.models import ColorBar, LinearColorMapper, ColumnDataSource\n",
    "    from bokeh.transform import factor_cmap\n",
    "    from bokeh.palettes import Spectral10, Category20\n",
    "    from bokeh.plotting import figure, show, output_notebook\n",
    "    from bokeh.io import output_file\n",
    "    \n",
    "    # svg representations of molecules\n",
    "    df['svg'] = df['Smiles'].apply(lambda x: smi2svg(x))\n",
    "    \n",
    "    \n",
    "    atom_types = sorted(df['atom_types'].unique())\n",
    "    \n",
    "    \n",
    "    color_map = factor_cmap(\n",
    "        'atom_types',           \n",
    "        Category20[20],            \n",
    "        atom_types             \n",
    "    )\n",
    "    \n",
    "    # prepare data for Bokeh\n",
    "    source = ColumnDataSource(df)\n",
    "    \n",
    "    # hover tooltip\n",
    "    TOOLTIPS = \"\"\"\n",
    "    <div>\n",
    "        @{svg}{safe}\n",
    "        <br>\n",
    "        Molecule ID: @mol_idx\n",
    "        <br>\n",
    "        Atom ID: @atom_id\n",
    "        <br>\n",
    "        Atom Type: @atom_types\n",
    "    </div>\n",
    "    \"\"\"\n",
    "    \n",
    "    \n",
    "    p = figure(width=1000, height=600, \n",
    "              title=\"UMAP Projection of Atom Descriptors\",\n",
    "              tooltips=TOOLTIPS)\n",
    "    \n",
    "    \n",
    "    p.circle('x', 'y', size=5, source=source, \n",
    "            color=color_map, alpha=0.6)\n",
    "        \n",
    "    if filename:\n",
    "        output_file(filename)\n",
    "        show(p)\n",
    "    else:\n",
    "        \n",
    "        output_notebook()\n",
    "        show(p)\n",
    "\n",
    "# coloured by MACE atom types, saves a .html of the plot (and potentially automaticaly opens in your default browser)\n",
    "plot_umap_atoms_colored(df, filename='umap.html')\n",
    "\n"
   ]
  },
  {
   "cell_type": "code",
   "execution_count": 46,
   "metadata": {},
   "outputs": [
    {
     "data": {
      "text/html": [
       "<div>\n",
       "<style scoped>\n",
       "    .dataframe tbody tr th:only-of-type {\n",
       "        vertical-align: middle;\n",
       "    }\n",
       "\n",
       "    .dataframe tbody tr th {\n",
       "        vertical-align: top;\n",
       "    }\n",
       "\n",
       "    .dataframe thead th {\n",
       "        text-align: right;\n",
       "    }\n",
       "</style>\n",
       "<table border=\"1\" class=\"dataframe\">\n",
       "  <thead>\n",
       "    <tr style=\"text-align: right;\">\n",
       "      <th></th>\n",
       "      <th>Smiles</th>\n",
       "      <th>mol_idx</th>\n",
       "      <th>atom_id</th>\n",
       "      <th>x</th>\n",
       "      <th>y</th>\n",
       "      <th>atom_types</th>\n",
       "      <th>cluster_id</th>\n",
       "      <th>svg</th>\n",
       "    </tr>\n",
       "  </thead>\n",
       "  <tbody>\n",
       "    <tr>\n",
       "      <th>0</th>\n",
       "      <td>[NH3+]C12C3C4C1C1C2C3C41[NH3+]</td>\n",
       "      <td>0</td>\n",
       "      <td>0</td>\n",
       "      <td>-3.932169</td>\n",
       "      <td>22.451443</td>\n",
       "      <td>n20</td>\n",
       "      <td>-1</td>\n",
       "      <td>&lt;?xml version='1.0' encoding='iso-8859-1'?&gt;\\n&lt;...</td>\n",
       "    </tr>\n",
       "    <tr>\n",
       "      <th>1</th>\n",
       "      <td>[NH3+]C12C3C4C1C1C2C3C41[NH3+]</td>\n",
       "      <td>0</td>\n",
       "      <td>1</td>\n",
       "      <td>-6.441707</td>\n",
       "      <td>-1.211391</td>\n",
       "      <td>n16</td>\n",
       "      <td>-1</td>\n",
       "      <td>&lt;?xml version='1.0' encoding='iso-8859-1'?&gt;\\n&lt;...</td>\n",
       "    </tr>\n",
       "    <tr>\n",
       "      <th>2</th>\n",
       "      <td>[NH3+]C12C3C4C1C1C2C3C41[NH3+]</td>\n",
       "      <td>0</td>\n",
       "      <td>2</td>\n",
       "      <td>-6.783334</td>\n",
       "      <td>-0.895365</td>\n",
       "      <td>n16</td>\n",
       "      <td>-1</td>\n",
       "      <td>&lt;?xml version='1.0' encoding='iso-8859-1'?&gt;\\n&lt;...</td>\n",
       "    </tr>\n",
       "    <tr>\n",
       "      <th>3</th>\n",
       "      <td>[NH3+]C12C3C4C1C1C2C3C41[NH3+]</td>\n",
       "      <td>0</td>\n",
       "      <td>3</td>\n",
       "      <td>-6.777421</td>\n",
       "      <td>-0.892478</td>\n",
       "      <td>n16</td>\n",
       "      <td>-1</td>\n",
       "      <td>&lt;?xml version='1.0' encoding='iso-8859-1'?&gt;\\n&lt;...</td>\n",
       "    </tr>\n",
       "    <tr>\n",
       "      <th>4</th>\n",
       "      <td>[NH3+]C12C3C4C1C1C2C3C41[NH3+]</td>\n",
       "      <td>0</td>\n",
       "      <td>4</td>\n",
       "      <td>-6.784262</td>\n",
       "      <td>-0.892389</td>\n",
       "      <td>n16</td>\n",
       "      <td>-1</td>\n",
       "      <td>&lt;?xml version='1.0' encoding='iso-8859-1'?&gt;\\n&lt;...</td>\n",
       "    </tr>\n",
       "    <tr>\n",
       "      <th>...</th>\n",
       "      <td>...</td>\n",
       "      <td>...</td>\n",
       "      <td>...</td>\n",
       "      <td>...</td>\n",
       "      <td>...</td>\n",
       "      <td>...</td>\n",
       "      <td>...</td>\n",
       "      <td>...</td>\n",
       "    </tr>\n",
       "    <tr>\n",
       "      <th>261</th>\n",
       "      <td>O=Cc1[nH]nc2c1CC1CC21</td>\n",
       "      <td>13</td>\n",
       "      <td>14</td>\n",
       "      <td>0.781545</td>\n",
       "      <td>-8.260488</td>\n",
       "      <td>n2</td>\n",
       "      <td>6</td>\n",
       "      <td>&lt;?xml version='1.0' encoding='iso-8859-1'?&gt;\\n&lt;...</td>\n",
       "    </tr>\n",
       "    <tr>\n",
       "      <th>262</th>\n",
       "      <td>O=Cc1[nH]nc2c1CC1CC21</td>\n",
       "      <td>13</td>\n",
       "      <td>15</td>\n",
       "      <td>4.842766</td>\n",
       "      <td>19.630127</td>\n",
       "      <td>n2</td>\n",
       "      <td>2</td>\n",
       "      <td>&lt;?xml version='1.0' encoding='iso-8859-1'?&gt;\\n&lt;...</td>\n",
       "    </tr>\n",
       "    <tr>\n",
       "      <th>263</th>\n",
       "      <td>O=Cc1[nH]nc2c1CC1CC21</td>\n",
       "      <td>13</td>\n",
       "      <td>16</td>\n",
       "      <td>0.734479</td>\n",
       "      <td>-8.303406</td>\n",
       "      <td>n2</td>\n",
       "      <td>6</td>\n",
       "      <td>&lt;?xml version='1.0' encoding='iso-8859-1'?&gt;\\n&lt;...</td>\n",
       "    </tr>\n",
       "    <tr>\n",
       "      <th>264</th>\n",
       "      <td>O=Cc1[nH]nc2c1CC1CC21</td>\n",
       "      <td>13</td>\n",
       "      <td>17</td>\n",
       "      <td>4.916242</td>\n",
       "      <td>19.828884</td>\n",
       "      <td>n2</td>\n",
       "      <td>2</td>\n",
       "      <td>&lt;?xml version='1.0' encoding='iso-8859-1'?&gt;\\n&lt;...</td>\n",
       "    </tr>\n",
       "    <tr>\n",
       "      <th>265</th>\n",
       "      <td>O=Cc1[nH]nc2c1CC1CC21</td>\n",
       "      <td>13</td>\n",
       "      <td>18</td>\n",
       "      <td>0.616185</td>\n",
       "      <td>-8.273585</td>\n",
       "      <td>n2</td>\n",
       "      <td>6</td>\n",
       "      <td>&lt;?xml version='1.0' encoding='iso-8859-1'?&gt;\\n&lt;...</td>\n",
       "    </tr>\n",
       "  </tbody>\n",
       "</table>\n",
       "<p>7670 rows × 8 columns</p>\n",
       "</div>"
      ],
      "text/plain": [
       "                             Smiles  mol_idx  atom_id         x          y  \\\n",
       "0    [NH3+]C12C3C4C1C1C2C3C41[NH3+]        0        0 -3.932169  22.451443   \n",
       "1    [NH3+]C12C3C4C1C1C2C3C41[NH3+]        0        1 -6.441707  -1.211391   \n",
       "2    [NH3+]C12C3C4C1C1C2C3C41[NH3+]        0        2 -6.783334  -0.895365   \n",
       "3    [NH3+]C12C3C4C1C1C2C3C41[NH3+]        0        3 -6.777421  -0.892478   \n",
       "4    [NH3+]C12C3C4C1C1C2C3C41[NH3+]        0        4 -6.784262  -0.892389   \n",
       "..                              ...      ...      ...       ...        ...   \n",
       "261           O=Cc1[nH]nc2c1CC1CC21       13       14  0.781545  -8.260488   \n",
       "262           O=Cc1[nH]nc2c1CC1CC21       13       15  4.842766  19.630127   \n",
       "263           O=Cc1[nH]nc2c1CC1CC21       13       16  0.734479  -8.303406   \n",
       "264           O=Cc1[nH]nc2c1CC1CC21       13       17  4.916242  19.828884   \n",
       "265           O=Cc1[nH]nc2c1CC1CC21       13       18  0.616185  -8.273585   \n",
       "\n",
       "    atom_types  cluster_id                                                svg  \n",
       "0          n20          -1  <?xml version='1.0' encoding='iso-8859-1'?>\\n<...  \n",
       "1          n16          -1  <?xml version='1.0' encoding='iso-8859-1'?>\\n<...  \n",
       "2          n16          -1  <?xml version='1.0' encoding='iso-8859-1'?>\\n<...  \n",
       "3          n16          -1  <?xml version='1.0' encoding='iso-8859-1'?>\\n<...  \n",
       "4          n16          -1  <?xml version='1.0' encoding='iso-8859-1'?>\\n<...  \n",
       "..         ...         ...                                                ...  \n",
       "261         n2           6  <?xml version='1.0' encoding='iso-8859-1'?>\\n<...  \n",
       "262         n2           2  <?xml version='1.0' encoding='iso-8859-1'?>\\n<...  \n",
       "263         n2           6  <?xml version='1.0' encoding='iso-8859-1'?>\\n<...  \n",
       "264         n2           2  <?xml version='1.0' encoding='iso-8859-1'?>\\n<...  \n",
       "265         n2           6  <?xml version='1.0' encoding='iso-8859-1'?>\\n<...  \n",
       "\n",
       "[7670 rows x 8 columns]"
      ]
     },
     "execution_count": 46,
     "metadata": {},
     "output_type": "execute_result"
    },
    {
     "name": "stderr",
     "output_type": "stream",
     "text": [
      "Gtk-Message: 21:50:01.913: Not loading module \"atk-bridge\": The functionality is provided by GTK natively. Please try to not load it.\n",
      "[22506, Main Thread] WARNING: GTK+ module /snap/firefox/5647/gnome-platform/usr/lib/gtk-2.0/modules/libcanberra-gtk-module.so cannot be loaded.\n",
      "GTK+ 2.x symbols detected. Using GTK+ 2.x and GTK+ 3 in the same process is not supported.: 'glib warning', file /build/firefox/parts/firefox/build/toolkit/xre/nsSigHandlers.cpp:201\n",
      "\n",
      "(firefox:22506): Gtk-WARNING **: 21:50:01.965: GTK+ module /snap/firefox/5647/gnome-platform/usr/lib/gtk-2.0/modules/libcanberra-gtk-module.so cannot be loaded.\n",
      "GTK+ 2.x symbols detected. Using GTK+ 2.x and GTK+ 3 in the same process is not supported.\n",
      "Gtk-Message: 21:50:01.965: Failed to load module \"canberra-gtk-module\"\n",
      "[22506, Main Thread] WARNING: GTK+ module /snap/firefox/5647/gnome-platform/usr/lib/gtk-2.0/modules/libcanberra-gtk-module.so cannot be loaded.\n",
      "GTK+ 2.x symbols detected. Using GTK+ 2.x and GTK+ 3 in the same process is not supported.: 'glib warning', file /build/firefox/parts/firefox/build/toolkit/xre/nsSigHandlers.cpp:201\n",
      "\n",
      "(firefox:22506): Gtk-WARNING **: 21:50:01.966: GTK+ module /snap/firefox/5647/gnome-platform/usr/lib/gtk-2.0/modules/libcanberra-gtk-module.so cannot be loaded.\n",
      "GTK+ 2.x symbols detected. Using GTK+ 2.x and GTK+ 3 in the same process is not supported.\n",
      "Gtk-Message: 21:50:01.966: Failed to load module \"canberra-gtk-module\"\n"
     ]
    }
   ],
   "source": [
    "# raw data, cluster_id -1 means unassigned\n",
    "df"
   ]
  }
 ],
 "metadata": {
  "kernelspec": {
   "display_name": "mace_types",
   "language": "python",
   "name": "python3"
  },
  "language_info": {
   "codemirror_mode": {
    "name": "ipython",
    "version": 3
   },
   "file_extension": ".py",
   "mimetype": "text/x-python",
   "name": "python",
   "nbconvert_exporter": "python",
   "pygments_lexer": "ipython3",
   "version": "3.12.8"
  }
 },
 "nbformat": 4,
 "nbformat_minor": 4
}
